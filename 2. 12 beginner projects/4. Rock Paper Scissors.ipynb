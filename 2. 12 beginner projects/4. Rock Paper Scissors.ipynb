{
 "cells": [
  {
   "cell_type": "markdown",
   "id": "d26052f6-129f-4834-a8e3-8a90daef5e0c",
   "metadata": {},
   "source": [
    "## Rock Paper Scissors"
   ]
  },
  {
   "cell_type": "markdown",
   "id": "f06e2a46-c085-46e0-82c6-535cfbdedf40",
   "metadata": {},
   "source": [
    "My solution:"
   ]
  },
  {
   "cell_type": "code",
   "execution_count": 1,
   "id": "6e77edaf-9329-458d-b117-50fc6ed1b4c8",
   "metadata": {},
   "outputs": [
    {
     "name": "stdin",
     "output_type": "stream",
     "text": [
      "'r' for rock, 'p' for paper, 's' for scissors r\n"
     ]
    },
    {
     "name": "stdout",
     "output_type": "stream",
     "text": [
      "Player wins!\n"
     ]
    }
   ],
   "source": [
    "import random\n",
    "\n",
    "def play_rps():\n",
    "    # initiate variables\n",
    "    user = input(\"'r' for rock, 'p' for paper, 's' for scissors\").lower()\n",
    "    computer = random.choice(['r', 'p', 's'])\n",
    "    \n",
    "    # pick winner, considering r > s, s > p, p > r\n",
    "    if user == computer:\n",
    "        print(\"It's a tie!\")\n",
    "    else:\n",
    "        if user == 'r':\n",
    "            if computer == 'p':\n",
    "                print(\"Computer wins!\")\n",
    "            else:\n",
    "                print(\"Player wins!\")\n",
    "        elif user == 'p':\n",
    "            if computer == 's':\n",
    "                print(\"Computer wins!\")\n",
    "            else:\n",
    "                print(\"Player wins!\")\n",
    "        elif user == 's':\n",
    "            if computer == 'r':\n",
    "                print(\"Computer wins!\")\n",
    "            else:\n",
    "                print(\"Player wins!\")\n",
    "\n",
    "play_rps()"
   ]
  },
  {
   "cell_type": "markdown",
   "id": "9f2553b1-c2c0-4b3f-8783-e2f43607ddc5",
   "metadata": {},
   "source": [
    "Video solution (more elegant and does not repeat so much code):"
   ]
  },
  {
   "cell_type": "code",
   "execution_count": 11,
   "id": "ed10438a-b5f6-4a45-aaa4-0d17475c970a",
   "metadata": {},
   "outputs": [
    {
     "name": "stdin",
     "output_type": "stream",
     "text": [
      "'r' for rock, 'p' for paper, 's' for scissors p\n"
     ]
    },
    {
     "name": "stdout",
     "output_type": "stream",
     "text": [
      "It's a tie!\n"
     ]
    }
   ],
   "source": [
    "import random\n",
    "\n",
    "#defines a function to evaluate if the user wins, considering r > s, s > p, p > r\n",
    "def is_win(user, opponent):\n",
    "    if (user == 'r' and opponent == 's') or (user == 's' and opponent == 'p') or (user == 'p' and opponent == 'r'):\n",
    "        return True\n",
    "\n",
    "def play():\n",
    "    # initiate variables\n",
    "    user = input(\"'r' for rock, 'p' for paper, 's' for scissors\").lower()\n",
    "    computer = random.choice(['r', 'p', 's'])\n",
    "    \n",
    "    # pick winner using function\n",
    "    if user == computer:\n",
    "        print(\"It's a tie!\")\n",
    "    elif is_win(user, computer):\n",
    "        print(\"Player wins!\")\n",
    "    else:\n",
    "        print(\"Computer wins!\")\n",
    "        \n",
    "play()"
   ]
  }
 ],
 "metadata": {
  "kernelspec": {
   "display_name": "Python 3 (ipykernel)",
   "language": "python",
   "name": "python3"
  },
  "language_info": {
   "codemirror_mode": {
    "name": "ipython",
    "version": 3
   },
   "file_extension": ".py",
   "mimetype": "text/x-python",
   "name": "python",
   "nbconvert_exporter": "python",
   "pygments_lexer": "ipython3",
   "version": "3.9.13"
  }
 },
 "nbformat": 4,
 "nbformat_minor": 5
}
