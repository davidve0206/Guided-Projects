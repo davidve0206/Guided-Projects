{
 "cells": [
  {
   "cell_type": "markdown",
   "id": "7a79a836-e1a5-4cd1-9ced-59c82c86347c",
   "metadata": {},
   "source": [
    "## 5. Hangman\n",
    "\n",
    "Note: my code is less elegant than the video as the video uses a complex list comprehension that I didnt want to use without understanding it propperly"
   ]
  },
  {
   "cell_type": "code",
   "execution_count": 45,
   "id": "5d5bcd95-92a1-424a-99b8-e544205a24f3",
   "metadata": {},
   "outputs": [
    {
     "name": "stdout",
     "output_type": "stream",
     "text": [
      "You have 10 lifes remaining\n",
      "You have used letters:  \n",
      "Current state of the word:  - - - -\n"
     ]
    },
    {
     "name": "stdin",
     "output_type": "stream",
     "text": [
      "Guess a letter:  a\n"
     ]
    },
    {
     "name": "stdout",
     "output_type": "stream",
     "text": [
      "You have 10 lifes remaining\n",
      "You have used letters:  A\n",
      "Current state of the word:  - - A -\n"
     ]
    },
    {
     "name": "stdin",
     "output_type": "stream",
     "text": [
      "Guess a letter:  e\n"
     ]
    },
    {
     "name": "stdout",
     "output_type": "stream",
     "text": [
      "Letter not in word\n",
      "You have 9 lifes remaining\n",
      "You have used letters:  E A\n",
      "Current state of the word:  - - A -\n"
     ]
    },
    {
     "name": "stdin",
     "output_type": "stream",
     "text": [
      "Guess a letter:  i\n"
     ]
    },
    {
     "name": "stdout",
     "output_type": "stream",
     "text": [
      "Letter not in word\n",
      "You have 8 lifes remaining\n",
      "You have used letters:  E A I\n",
      "Current state of the word:  - - A -\n"
     ]
    },
    {
     "name": "stdin",
     "output_type": "stream",
     "text": [
      "Guess a letter:  o\n"
     ]
    },
    {
     "name": "stdout",
     "output_type": "stream",
     "text": [
      "Letter not in word\n",
      "You have 7 lifes remaining\n",
      "You have used letters:  O E A I\n",
      "Current state of the word:  - - A -\n"
     ]
    },
    {
     "name": "stdin",
     "output_type": "stream",
     "text": [
      "Guess a letter:  u\n"
     ]
    },
    {
     "name": "stdout",
     "output_type": "stream",
     "text": [
      "Letter not in word\n",
      "You have 6 lifes remaining\n",
      "You have used letters:  O U A I E\n",
      "Current state of the word:  - - A -\n"
     ]
    },
    {
     "name": "stdin",
     "output_type": "stream",
     "text": [
      "Guess a letter:  b\n"
     ]
    },
    {
     "name": "stdout",
     "output_type": "stream",
     "text": [
      "Letter not in word\n",
      "You have 5 lifes remaining\n",
      "You have used letters:  O B U A I E\n",
      "Current state of the word:  - - A -\n"
     ]
    },
    {
     "name": "stdin",
     "output_type": "stream",
     "text": [
      "Guess a letter:  c\n"
     ]
    },
    {
     "name": "stdout",
     "output_type": "stream",
     "text": [
      "Letter not in word\n",
      "You have 4 lifes remaining\n",
      "You have used letters:  C O B U A I E\n",
      "Current state of the word:  - - A -\n"
     ]
    },
    {
     "name": "stdin",
     "output_type": "stream",
     "text": [
      "Guess a letter:  d\n"
     ]
    },
    {
     "name": "stdout",
     "output_type": "stream",
     "text": [
      "Letter not in word\n",
      "You have 3 lifes remaining\n",
      "You have used letters:  C O B U A I D E\n",
      "Current state of the word:  - - A -\n"
     ]
    },
    {
     "name": "stdin",
     "output_type": "stream",
     "text": [
      "Guess a letter:  f\n"
     ]
    },
    {
     "name": "stdout",
     "output_type": "stream",
     "text": [
      "Letter not in word\n",
      "You have 2 lifes remaining\n",
      "You have used letters:  C O B U A I F D E\n",
      "Current state of the word:  - - A -\n"
     ]
    },
    {
     "name": "stdin",
     "output_type": "stream",
     "text": [
      "Guess a letter:  g\n"
     ]
    },
    {
     "name": "stdout",
     "output_type": "stream",
     "text": [
      "Letter not in word\n",
      "You have 1 lifes remaining\n",
      "You have used letters:  C O B U A I F D E G\n",
      "Current state of the word:  - - A -\n"
     ]
    },
    {
     "name": "stdin",
     "output_type": "stream",
     "text": [
      "Guess a letter:  h\n"
     ]
    },
    {
     "name": "stdout",
     "output_type": "stream",
     "text": [
      "Letter not in word\n",
      "You have been hangged! The word was PLAY\n"
     ]
    }
   ],
   "source": [
    "import random\n",
    "import string\n",
    "from words import words\n",
    "\n",
    "def get_valid_word(words):\n",
    "    word = random.choice(words)\n",
    "    if (\"-\" in word) or (\" \" in word):\n",
    "        word = random.choice(words)\n",
    "    else:\n",
    "        return word.upper()\n",
    "\n",
    "def hangman(lifes=10):\n",
    "    # my understanding is that we use sets because they don't store duplicate values\n",
    "    word = get_valid_word(words)\n",
    "    word_letters = set(word)\n",
    "    alphabet = set(string.ascii_uppercase)\n",
    "    used_letters = set()\n",
    "    lifes_counter = lifes\n",
    "    \n",
    "\n",
    "    while len(word_letters) > 0 and lifes_counter > 0:\n",
    "        \n",
    "        # print letters already used and lifes remaining\n",
    "        print(f\"You have {lifes_counter} lifes remaining\")\n",
    "        print(\"You have used letters: \", \" \".join(used_letters)) #syntaxis to get letters separated by a space\n",
    "                \n",
    "        # print letters already guessed\n",
    "        word_list = []\n",
    "        for letter in word:\n",
    "            if letter in used_letters:\n",
    "                word_list.append(letter)\n",
    "            else:\n",
    "                word_list.append(\"-\")\n",
    "        print(\"Current state of the word: \", \" \".join(word_list))\n",
    "\n",
    "        # receive user input and check if it is in the word untill the word has been found\n",
    "        user_letter = input(\"Guess a letter: \").upper()\n",
    "        if user_letter in alphabet - used_letters:\n",
    "            used_letters.add(user_letter)\n",
    "            if user_letter in word_letters:\n",
    "                word_letters.remove(user_letter)\n",
    "            else:\n",
    "                lifes_counter = lifes_counter - 1\n",
    "                print(\"Letter not in word\")\n",
    "        else:\n",
    "            print(\"Invalid Input - you might have already used the letter or inputed an invalid character. Try again!\")\n",
    "    if lifes_counter == 0:\n",
    "        print(f\"You have been hangged! The word was {word}\")\n",
    "    else:\n",
    "        print(f\"You have guessed the word {word}!!!\")\n",
    "   \n",
    "\n",
    "hangman()"
   ]
  }
 ],
 "metadata": {
  "kernelspec": {
   "display_name": "Python 3 (ipykernel)",
   "language": "python",
   "name": "python3"
  },
  "language_info": {
   "codemirror_mode": {
    "name": "ipython",
    "version": 3
   },
   "file_extension": ".py",
   "mimetype": "text/x-python",
   "name": "python",
   "nbconvert_exporter": "python",
   "pygments_lexer": "ipython3",
   "version": "3.9.13"
  }
 },
 "nbformat": 4,
 "nbformat_minor": 5
}
