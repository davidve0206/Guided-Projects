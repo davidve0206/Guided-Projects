{
 "cells": [
  {
   "cell_type": "markdown",
   "id": "046b089a-1f77-4641-aac3-9c9032f4437f",
   "metadata": {},
   "source": [
    "# 2. Guess the Number (Computer generates number, user guesses)"
   ]
  },
  {
   "cell_type": "code",
   "execution_count": 3,
   "id": "e4ac3c8b-de93-47a6-9a66-516e05a4bf4c",
   "metadata": {},
   "outputs": [
    {
     "name": "stdin",
     "output_type": "stream",
     "text": [
      "Guess a number between 1 and 10:  5\n"
     ]
    },
    {
     "name": "stdout",
     "output_type": "stream",
     "text": [
      "Sorry, guess again. Too low!\n"
     ]
    },
    {
     "name": "stdin",
     "output_type": "stream",
     "text": [
      "Guess a number between 1 and 10:  8\n"
     ]
    },
    {
     "name": "stdout",
     "output_type": "stream",
     "text": [
      "Sorry, guess again. Too low!\n"
     ]
    },
    {
     "name": "stdin",
     "output_type": "stream",
     "text": [
      "Guess a number between 1 and 10:  9\n"
     ]
    },
    {
     "name": "stdout",
     "output_type": "stream",
     "text": [
      "Yay! You have guessed the number 10 correctly!\n"
     ]
    }
   ],
   "source": [
    "import random\n",
    "\n",
    "def guess(x):\n",
    "    # computer generates random number to guess\n",
    "    random_number = random.randint(1, x)\n",
    "    # initiate guess variable\n",
    "    guess = 0\n",
    "    while guess != random_number:\n",
    "        guess = int(input(f\"Guess a number between 1 and {x}: \"))\n",
    "        if guess < random_number:\n",
    "            print(\"Sorry, guess again. Too low!\")\n",
    "        if guess > random_number:\n",
    "            print(\"Sorry, guess again. Too high!\")\n",
    "    print(f\"Yay! You have guessed the number {x} correctly!\")\n",
    "    \n",
    "guess(10)"
   ]
  },
  {
   "cell_type": "markdown",
   "id": "003e4e7f-95b3-4368-a858-ae553031584c",
   "metadata": {},
   "source": [
    "# 3. Guess the Number (User knows the number, computer guesses)"
   ]
  },
  {
   "cell_type": "code",
   "execution_count": null,
   "id": "1d30a4cc-2ab6-4ceb-8f62-5cf3d4d9a45e",
   "metadata": {},
   "outputs": [
    {
     "name": "stdin",
     "output_type": "stream",
     "text": [
      "Is 4 too high (H), too low (L), or correct (C)? H\n",
      "Is 2 too high (H), too low (L), or correct (C)? L\n"
     ]
    }
   ],
   "source": [
    "def computer_guess(x):\n",
    "    low = 1\n",
    "    high = x\n",
    "    feedback = ''\n",
    "    while feedback != 'c':\n",
    "        # apparently if low == high random can generate an error; I didnt come across it but included just in case\n",
    "        if low != high:\n",
    "            guess = random.randint(low, high)\n",
    "        else:\n",
    "            guess = low\n",
    "        feedback = input(f\"Is {guess} too high (H), too low (L), or correct (C)?\").lower()\n",
    "        if feedback == 'h':\n",
    "            high = guess - 1\n",
    "        elif feedback == 'l':\n",
    "            low = guess + 1\n",
    "    print(f\"Wii! I made it, I guessed {guess} correctly\")\n",
    "\n",
    "computer_guess(4)"
   ]
  }
 ],
 "metadata": {
  "kernelspec": {
   "display_name": "Python 3 (ipykernel)",
   "language": "python",
   "name": "python3"
  },
  "language_info": {
   "codemirror_mode": {
    "name": "ipython",
    "version": 3
   },
   "file_extension": ".py",
   "mimetype": "text/x-python",
   "name": "python",
   "nbconvert_exporter": "python",
   "pygments_lexer": "ipython3",
   "version": "3.9.13"
  }
 },
 "nbformat": 4,
 "nbformat_minor": 5
}
