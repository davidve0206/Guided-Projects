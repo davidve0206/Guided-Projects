{
 "cells": [
  {
   "cell_type": "markdown",
   "id": "163045da-6ba4-4968-84d2-fcbd8280eb40",
   "metadata": {},
   "source": [
    "## Imports\n",
    "Note: required to have [yahoo_fin](https://theautomatic.net/yahoo_fin-documentation/#installation) installed"
   ]
  },
  {
   "cell_type": "code",
   "execution_count": 4,
   "id": "f6c7e9da-c8c3-4f3d-8a2e-7ba2a43122bd",
   "metadata": {},
   "outputs": [],
   "source": [
    "import yahoo_fin.stock_info as si\n",
    "from datetime import datetime, timedelta"
   ]
  },
  {
   "cell_type": "markdown",
   "id": "b9a74c63-fbc2-4289-b96d-93b6d9e63da9",
   "metadata": {},
   "source": [
    "## Defining function"
   ]
  },
  {
   "cell_type": "code",
   "execution_count": 18,
   "id": "ee440c27-98a7-415e-9323-303b00995927",
   "metadata": {},
   "outputs": [],
   "source": [
    "def convert_currency(base, quote=\"COP\", amount=\"1\"):\n",
    "    #construct the currency pair symbol as used by yahoo finance\n",
    "    symbol = f\"{base}{quote}=X\"\n",
    "    # extract daily data of the last 3 days to avoid an error happening at midnight of sundays\n",
    "    latest_data = si.get_data(symbol, interval=\"1d\", start_date = datetime.now() - timedelta(days=3))\n",
    "    # get the latest datetime\n",
    "    last_updated_datetime = latest_data.index[-1].to_pydatetime()\n",
    "    # get the latest price\n",
    "    latest_price = latest_data.iloc[-1].close\n",
    "    # return the latest datetime with the converted amount\n",
    "    return last_updated_datetime, latest_price * amount"
   ]
  },
  {
   "cell_type": "markdown",
   "id": "8b709f07-9aca-4996-9f4c-68ac04724bd2",
   "metadata": {},
   "source": [
    "## Prompts user to input the currency and ammount to convert to Colombian pesos"
   ]
  },
  {
   "cell_type": "code",
   "execution_count": 28,
   "id": "ac824150-9506-45fd-af27-bc3505612828",
   "metadata": {},
   "outputs": [
    {
     "name": "stdin",
     "output_type": "stream",
     "text": [
      "Enter the currency and ammount to convert, separed by a ',' : USD,1000\n"
     ]
    },
    {
     "name": "stdout",
     "output_type": "stream",
     "text": [
      "Converting USD 1000\n",
      "Last updated datetime: 2022-11-28 00:00:00\n",
      "1,000 USD = 4,861,600 COP\n"
     ]
    }
   ],
   "source": [
    "base, amount = input(\"Enter the currency and ammount to convert, separed by a ',' :\").split(\",\")\n",
    "print(\"Converting {} {}\".format(base, amount))\n",
    "last_updated_datetime, converted_value = convert_currency(base, amount=float(amount))\n",
    "print(\"Last updated datetime:\", last_updated_datetime)\n",
    "print(f\"{int(amount):,} {base} = {int(converted_value):,} COP\")"
   ]
  }
 ],
 "metadata": {
  "kernelspec": {
   "display_name": "Python 3 (ipykernel)",
   "language": "python",
   "name": "python3"
  },
  "language_info": {
   "codemirror_mode": {
    "name": "ipython",
    "version": 3
   },
   "file_extension": ".py",
   "mimetype": "text/x-python",
   "name": "python",
   "nbconvert_exporter": "python",
   "pygments_lexer": "ipython3",
   "version": "3.9.13"
  }
 },
 "nbformat": 4,
 "nbformat_minor": 5
}
